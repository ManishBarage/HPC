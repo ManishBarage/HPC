{
  "nbformat": 4,
  "nbformat_minor": 0,
  "metadata": {
    "colab": {
      "provenance": [],
      "gpuType": "T4"
    },
    "kernelspec": {
      "name": "python3",
      "display_name": "Python 3"
    },
    "language_info": {
      "name": "python"
    },
    "accelerator": "GPU"
  },
  "cells": [
    {
      "cell_type": "code",
      "execution_count": null,
      "metadata": {
        "colab": {
          "base_uri": "https://localhost:8080/"
        },
        "id": "69B496kyS2gn",
        "outputId": "eebc9077-df32-4e1d-b917-e672892a4037"
      },
      "outputs": [
        {
          "output_type": "stream",
          "name": "stdout",
          "text": [
            "Collecting nvcc4jupyter\n",
            "  Downloading nvcc4jupyter-1.2.1-py3-none-any.whl.metadata (5.1 kB)\n",
            "Downloading nvcc4jupyter-1.2.1-py3-none-any.whl (10 kB)\n",
            "Installing collected packages: nvcc4jupyter\n",
            "Successfully installed nvcc4jupyter-1.2.1\n"
          ]
        }
      ],
      "source": [
        "pip install nvcc4jupyter"
      ]
    },
    {
      "cell_type": "code",
      "source": [
        "# Q1\n",
        "%%writefile cuda_device_info.cu\n",
        "#include <stdio.h>\n",
        "#include <stdlib.h>\n",
        "\n",
        "int main()\n",
        "{\n",
        "    int deviceCount;\n",
        "    cudaGetDeviceCount(&deviceCount);\n",
        "    if (deviceCount == 0) {\n",
        "        printf(\"There is no device supporting CUDA\\n\");\n",
        "    }\n",
        "    int dev;\n",
        "    for (dev = 0; dev < deviceCount; ++dev)\n",
        "    {\n",
        "        cudaDeviceProp deviceProp;\n",
        "        cudaGetDeviceProperties(&deviceProp, dev);\n",
        "        if (dev == 0) {\n",
        "            if (deviceProp.major < 1) {\n",
        "                printf(\"There is no device supporting CUDA.\\n\");\n",
        "            } else if (deviceCount == 1) {\n",
        "                printf(\"There is 1 device supporting CUDA\\n\");\n",
        "            } else {\n",
        "                printf(\"There are %d devices supporting CUDA\\n\", deviceCount);\n",
        "            }\n",
        "        }\n",
        "        printf(\"\\nDevice %d: \\\"%s\\\"\\n\", dev, deviceProp.name);\n",
        "        printf(\"  Major revision number:                         %d\\n\", deviceProp.major);\n",
        "        printf(\"  Minor revision number:                         %d\\n\", deviceProp.minor);\n",
        "        printf(\"  Total amount of global memory:                 %zu bytes\\n\", deviceProp.totalGlobalMem);\n",
        "        printf(\"  Total amount of constant memory:               %zu bytes\\n\", deviceProp.totalConstMem);\n",
        "        printf(\"  Total amount of shared memory per block:       %zu bytes\\n\", deviceProp.sharedMemPerBlock);\n",
        "        printf(\"  Total number of registers available per block: %d\\n\", deviceProp.regsPerBlock);\n",
        "        printf(\"  Warp size:                                     %d\\n\", deviceProp.warpSize);\n",
        "        printf(\"  Multiprocessor count:                          %d\\n\",deviceProp.multiProcessorCount );\n",
        "        printf(\"  Maximum number of threads per block:           %d\\n\", deviceProp.maxThreadsPerBlock);\n",
        "        printf(\"  Maximum sizes of each dimension of a block:    %d x %d x %d\\n\", deviceProp.maxThreadsDim[0],deviceProp.maxThreadsDim[1], deviceProp.maxThreadsDim[2]);\n",
        "        printf(\"  Maximum sizes of each dimension of a grid:     %d x %d x %d\\n\", deviceProp.maxGridSize[0], deviceProp.maxGridSize[1],  deviceProp.maxGridSize[2]);\n",
        "        printf(\"  Maximum memory pitch:                          %zu bytes\\n\", deviceProp.memPitch);\n",
        "        printf(\"  Texture alignment:                             %zu bytes\\n\", deviceProp.textureAlignment);\n",
        "        printf(\"  Clock rate:                                    %d kilohertz\\n\", deviceProp.clockRate);\n",
        "    }\n",
        "}\n"
      ],
      "metadata": {
        "colab": {
          "base_uri": "https://localhost:8080/"
        },
        "id": "Bi75VbusTRjf",
        "outputId": "c24f5dd5-533d-4ea1-b0dd-83ce9f0adb0b"
      },
      "execution_count": null,
      "outputs": [
        {
          "output_type": "stream",
          "name": "stdout",
          "text": [
            "Writing cuda_device_info.cu\n"
          ]
        }
      ]
    },
    {
      "cell_type": "code",
      "source": [
        "!nvcc cuda_device_info.cu -o cuda_device_info"
      ],
      "metadata": {
        "id": "WUesffnOTkCO"
      },
      "execution_count": null,
      "outputs": []
    },
    {
      "cell_type": "code",
      "source": [
        "!./cuda_device_info"
      ],
      "metadata": {
        "colab": {
          "base_uri": "https://localhost:8080/"
        },
        "id": "smwVn7LaTniG",
        "outputId": "d752c9a9-561d-42c4-efd2-df03e51d330e"
      },
      "execution_count": null,
      "outputs": [
        {
          "output_type": "stream",
          "name": "stdout",
          "text": [
            "There is 1 device supporting CUDA\n",
            "\n",
            "Device 0: \"Tesla T4\"\n",
            "  Major revision number:                         7\n",
            "  Minor revision number:                         5\n",
            "  Total amount of global memory:                 15835660288 bytes\n",
            "  Total amount of constant memory:               65536 bytes\n",
            "  Total amount of shared memory per block:       49152 bytes\n",
            "  Total number of registers available per block: 65536\n",
            "  Warp size:                                     32\n",
            "  Multiprocessor count:                          40\n",
            "  Maximum number of threads per block:           1024\n",
            "  Maximum sizes of each dimension of a block:    1024 x 1024 x 64\n",
            "  Maximum sizes of each dimension of a grid:     2147483647 x 65535 x 65535\n",
            "  Maximum memory pitch:                          2147483647 bytes\n",
            "  Texture alignment:                             512 bytes\n",
            "  Clock rate:                                    1590000 kilohertz\n"
          ]
        }
      ]
    },
    {
      "cell_type": "code",
      "source": [
        "%%writefile hello.cu\n",
        "#include<stdio.h>\n",
        "\n",
        "__global__ void hello()\n",
        "{\n",
        "  int thread = threadIdx.x;\n",
        "  printf(\"Hello from thread : %d \\n\", thread);\n",
        "}\n",
        "\n",
        "int main()\n",
        "{\n",
        "  hello<<<1,4>>>();\n",
        "\n",
        "  cudaDeviceSynchronize();\n",
        "  return 0;\n",
        "}"
      ],
      "metadata": {
        "colab": {
          "base_uri": "https://localhost:8080/"
        },
        "id": "mjbwnqikUyV5",
        "outputId": "b0bc3e9a-a22a-4a95-a939-f434eb6332db"
      },
      "execution_count": 10,
      "outputs": [
        {
          "output_type": "stream",
          "name": "stdout",
          "text": [
            "Overwriting hello.cu\n"
          ]
        }
      ]
    },
    {
      "cell_type": "code",
      "source": [
        "!nvcc hello.cu -o hello_cuda\n",
        "!./hello_cuda"
      ],
      "metadata": {
        "colab": {
          "base_uri": "https://localhost:8080/"
        },
        "id": "QIBApVqwVgTH",
        "outputId": "7e3644ad-a927-44f3-a9a4-05e6a286a5e8"
      },
      "execution_count": 9,
      "outputs": [
        {
          "output_type": "stream",
          "name": "stdout",
          "text": [
            "Hello from thread : 0 \n",
            "Hello from thread : 1 \n",
            "Hello from thread : 2 \n",
            "Hello from thread : 3 \n",
            "Hello from thread : 0 \n",
            "Hello from thread : 1 \n",
            "Hello from thread : 2 \n",
            "Hello from thread : 3 \n"
          ]
        }
      ]
    },
    {
      "cell_type": "code",
      "source": [
        "%%writefile hello_cuda2.cu\n",
        "#include <stdio.h>\n",
        "\n",
        "__global__ void helloWorld() {\n",
        "    int blockId = blockIdx.x;\n",
        "    int threadId = threadIdx.x;\n",
        "    int gi = threadId + blockId * blockDim.x;\n",
        "    printf(\"Hello World from block %d, thread %d, global Id : %d\\n \", blockId, threadId,gi);\n",
        "\n",
        "}\n",
        "\n",
        "int main() {\n",
        "\n",
        "    helloWorld<<<3, 5>>>();\n",
        "\n",
        "    cudaDeviceSynchronize();\n",
        "\n",
        "    return 0;\n",
        "}\n"
      ],
      "metadata": {
        "colab": {
          "base_uri": "https://localhost:8080/"
        },
        "id": "lJyFg2WoVlz9",
        "outputId": "8c94fa3d-b8fd-4767-a5f0-2aee06e6cbfb"
      },
      "execution_count": null,
      "outputs": [
        {
          "output_type": "stream",
          "name": "stdout",
          "text": [
            "Writing hello_cuda2.cu\n"
          ]
        }
      ]
    },
    {
      "cell_type": "code",
      "source": [
        "!nvcc -o hello2 hello_cuda2.cu\n",
        "!./hello2"
      ],
      "metadata": {
        "colab": {
          "base_uri": "https://localhost:8080/"
        },
        "id": "WjLsVVhOXxrW",
        "outputId": "f4516fd2-4428-4621-89f7-1d6d586e4506"
      },
      "execution_count": null,
      "outputs": [
        {
          "output_type": "stream",
          "name": "stdout",
          "text": [
            "Hello World from block 1, thread 0, global Id : 5\n",
            " Hello World from block 1, thread 1, global Id : 6\n",
            " Hello World from block 1, thread 2, global Id : 7\n",
            " Hello World from block 1, thread 3, global Id : 8\n",
            " Hello World from block 1, thread 4, global Id : 9\n",
            " Hello World from block 2, thread 0, global Id : 10\n",
            " Hello World from block 2, thread 1, global Id : 11\n",
            " Hello World from block 2, thread 2, global Id : 12\n",
            " Hello World from block 2, thread 3, global Id : 13\n",
            " Hello World from block 2, thread 4, global Id : 14\n",
            " Hello World from block 0, thread 0, global Id : 0\n",
            " Hello World from block 0, thread 1, global Id : 1\n",
            " Hello World from block 0, thread 2, global Id : 2\n",
            " Hello World from block 0, thread 3, global Id : 3\n",
            " Hello World from block 0, thread 4, global Id : 4\n",
            " "
          ]
        }
      ]
    },
    {
      "cell_type": "code",
      "source": [
        "%%writefile hello3.cu\n",
        "#include <stdio.h>\n",
        "\n",
        "__global__ void solve()\n",
        "{\n",
        "    int thx = threadIdx.x;\n",
        "    int thy = threadIdx.y;\n",
        "\n",
        "    int blx = blockIdx.x;\n",
        "    int bly = blockIdx.y;\n",
        "\n",
        "    int gx = thx + blx * blockDim.x;\n",
        "    int gy = thy + bly * blockDim.y;\n",
        "\n",
        "    int gi = gy * (gridDim.x * blockDim.x) + gx;\n",
        "\n",
        "    printf(\"2D (%d, %d) | 1D (%d)\\n\", gx, gy, gi);\n",
        "}\n",
        "\n",
        "int main()\n",
        "{\n",
        "  dim3 gridSize (2,2);\n",
        "  dim3 blockSize(3,3);\n",
        "\n",
        "  solve<<<gridSize, blockSize>>>();\n",
        "\n",
        "  cudaDeviceSynchronize();\n",
        "  return 0;\n",
        "}"
      ],
      "metadata": {
        "colab": {
          "base_uri": "https://localhost:8080/"
        },
        "id": "ypg5jumPYUFp",
        "outputId": "9d449596-4626-4c7b-b6b4-7a1e7b70cefe"
      },
      "execution_count": 11,
      "outputs": [
        {
          "output_type": "stream",
          "name": "stdout",
          "text": [
            "Writing hello3.cu\n"
          ]
        }
      ]
    },
    {
      "cell_type": "code",
      "source": [
        "!nvcc -o hello3 hello3.cu\n",
        "!./hello3"
      ],
      "metadata": {
        "colab": {
          "base_uri": "https://localhost:8080/"
        },
        "id": "j7C55gOnYZgt",
        "outputId": "2b2c42f5-64e6-4071-acf8-fb6aa08cc99d"
      },
      "execution_count": 12,
      "outputs": [
        {
          "output_type": "stream",
          "name": "stdout",
          "text": [
            "2D (3, 0) | 1D (3)\n",
            "2D (4, 0) | 1D (4)\n",
            "2D (5, 0) | 1D (5)\n",
            "2D (3, 1) | 1D (9)\n",
            "2D (4, 1) | 1D (10)\n",
            "2D (5, 1) | 1D (11)\n",
            "2D (3, 2) | 1D (15)\n",
            "2D (4, 2) | 1D (16)\n",
            "2D (5, 2) | 1D (17)\n",
            "2D (3, 3) | 1D (21)\n",
            "2D (4, 3) | 1D (22)\n",
            "2D (5, 3) | 1D (23)\n",
            "2D (3, 4) | 1D (27)\n",
            "2D (4, 4) | 1D (28)\n",
            "2D (5, 4) | 1D (29)\n",
            "2D (3, 5) | 1D (33)\n",
            "2D (4, 5) | 1D (34)\n",
            "2D (5, 5) | 1D (35)\n",
            "2D (0, 3) | 1D (18)\n",
            "2D (1, 3) | 1D (19)\n",
            "2D (2, 3) | 1D (20)\n",
            "2D (0, 4) | 1D (24)\n",
            "2D (1, 4) | 1D (25)\n",
            "2D (2, 4) | 1D (26)\n",
            "2D (0, 5) | 1D (30)\n",
            "2D (1, 5) | 1D (31)\n",
            "2D (2, 5) | 1D (32)\n",
            "2D (0, 0) | 1D (0)\n",
            "2D (1, 0) | 1D (1)\n",
            "2D (2, 0) | 1D (2)\n",
            "2D (0, 1) | 1D (6)\n",
            "2D (1, 1) | 1D (7)\n",
            "2D (2, 1) | 1D (8)\n",
            "2D (0, 2) | 1D (12)\n",
            "2D (1, 2) | 1D (13)\n",
            "2D (2, 2) | 1D (14)\n"
          ]
        }
      ]
    },
    {
      "cell_type": "markdown",
      "source": [
        "**Practise**"
      ],
      "metadata": {
        "id": "3538nh9YzlJa"
      }
    },
    {
      "cell_type": "code",
      "source": [
        "%%writefile temp.cu\n",
        "#include <stdio.h>\n",
        "__global__ void solve()\n",
        "{\n",
        "  int idx = threadIdx.x;\n",
        "  int idx1 = blockIdx.x;\n",
        "  printf(\"Hello from thread %d from block %d\\n\", idx,idx1);\n",
        "}\n",
        "\n",
        "int main()\n",
        "{\n",
        "  solve<<<2,5>>>();\n",
        "\n",
        "  cudaDeviceSynchronize();\n",
        "}"
      ],
      "metadata": {
        "colab": {
          "base_uri": "https://localhost:8080/"
        },
        "id": "ftyfdE0VeYcY",
        "outputId": "dffa0877-2bff-45d9-8a1b-57b14df01405"
      },
      "execution_count": null,
      "outputs": [
        {
          "output_type": "stream",
          "name": "stdout",
          "text": [
            "Overwriting temp.cu\n"
          ]
        }
      ]
    },
    {
      "cell_type": "code",
      "source": [
        "!nvcc -o temp temp.cu\n",
        "! ./temp"
      ],
      "metadata": {
        "colab": {
          "base_uri": "https://localhost:8080/"
        },
        "id": "4DnWYs-2e9HF",
        "outputId": "85a27dee-dad9-40db-fce0-18ad219a1999"
      },
      "execution_count": null,
      "outputs": [
        {
          "output_type": "stream",
          "name": "stdout",
          "text": [
            "Hello from thread 0 from block 0\n",
            "Hello from thread 1 from block 0\n",
            "Hello from thread 2 from block 0\n",
            "Hello from thread 3 from block 0\n",
            "Hello from thread 4 from block 0\n",
            "Hello from thread 0 from block 1\n",
            "Hello from thread 1 from block 1\n",
            "Hello from thread 2 from block 1\n",
            "Hello from thread 3 from block 1\n",
            "Hello from thread 4 from block 1\n"
          ]
        }
      ]
    },
    {
      "cell_type": "code",
      "source": [
        "%%writefile add.cu\n",
        "#include<stdio.h>\n",
        "\n",
        "__global__ void add(int *a , int *b, int *c)\n",
        "{\n",
        "  *c = *a + *b;\n",
        "}\n",
        "\n",
        "int main()\n",
        "{\n",
        "  int a = 2,b=3,c;\n",
        "\n",
        "  int *d_a, *d_b, *d_c;\n",
        "\n",
        "  int sz = sizeof(int);\n",
        "\n",
        "  cudaMalloc((void **)&d_a, sz);\n",
        "  cudaMalloc((void **)&d_b, sz);\n",
        "  cudaMalloc((void **)&d_c, sz);\n",
        "\n",
        "  cudaMemcpy(d_a, &a, sz, cudaMemcpyHostToDevice);\n",
        "  cudaMemcpy(d_b, &b,sz, cudaMemcpyHostToDevice);\n",
        "\n",
        "  add<<<1,1>>>(d_a,d_b,d_c);\n",
        "\n",
        "  cudaMemcpy(&c, d_c,sz, cudaMemcpyDeviceToHost);\n",
        "\n",
        "  printf(\"Sum : %d\",c);\n",
        "\n",
        "  cudaFree(d_a);\n",
        "  cudaFree(d_b);\n",
        "  cudaFree(d_c);\n",
        "}"
      ],
      "metadata": {
        "colab": {
          "base_uri": "https://localhost:8080/"
        },
        "id": "Uzz7NNDehK55",
        "outputId": "a29cfc7f-3c2a-4a3a-a9ad-bf55e0c0040d"
      },
      "execution_count": 24,
      "outputs": [
        {
          "output_type": "stream",
          "name": "stdout",
          "text": [
            "Overwriting add.cu\n"
          ]
        }
      ]
    },
    {
      "cell_type": "code",
      "source": [
        "!nvcc -o add add.cu\n",
        "!./add"
      ],
      "metadata": {
        "colab": {
          "base_uri": "https://localhost:8080/"
        },
        "id": "NmJH_NIdiwjr",
        "outputId": "6e9f9b82-d441-4f55-8198-c55571132560"
      },
      "execution_count": 25,
      "outputs": [
        {
          "output_type": "stream",
          "name": "stdout",
          "text": [
            "Sum : 5"
          ]
        }
      ]
    },
    {
      "cell_type": "code",
      "source": [
        "%%writefile addv.cu\n",
        "#include<stdio.h>\n",
        "#define N 4\n",
        "__global__ void add(int *a, int *b, int *c)\n",
        "{\n",
        "  int idx = threadIdx.x;\n",
        "  if(idx < N)\n",
        "  {\n",
        "    c[idx] = a[idx] + b[idx];\n",
        "  }\n",
        "}\n",
        "\n",
        "int main()\n",
        "{\n",
        "  int *a, *b, *c;\n",
        "  int *d_a, *d_b, *d_c;\n",
        "  int size = N * sizeof(int);\n",
        "\n",
        "  cudaMalloc((void **)&d_a,size);\n",
        "  cudaMalloc((void **)&d_b,size);\n",
        "  cudaMalloc((void **)&d_c,size);\n",
        "\n",
        "  a = (int *)malloc(size);\n",
        "  b = (int *)malloc(size);\n",
        "  c = (int *)malloc(size);\n",
        "\n",
        "  for(int i=0;i<N;i++)\n",
        "  {\n",
        "    a[i] = i+1;\n",
        "    b[i] = i+1;\n",
        "  }\n",
        "\n",
        "\n",
        "  cudaMemcpy(d_a, a, size, cudaMemcpyHostToDevice);\n",
        "  cudaMemcpy(d_b, b, size, cudaMemcpyHostToDevice);\n",
        "\n",
        "  add<<<1, N>>>(d_a, d_b,d_c);\n",
        "\n",
        "  cudaMemcpy(c, d_c, size, cudaMemcpyDeviceToHost);\n",
        "\n",
        "  for(int i=0;i<N;i++)\n",
        "  {\n",
        "    printf(\" %d \",c[i]);\n",
        "  }\n",
        "\n",
        "  cudaFree(a);\n",
        "  cudaFree(b);\n",
        "  cudaFree(c);\n",
        "  cudaFree(d_a);\n",
        "  cudaFree(d_b);\n",
        "  cudaFree(d_c);\n",
        "\n",
        "\n",
        "\n",
        "}"
      ],
      "metadata": {
        "colab": {
          "base_uri": "https://localhost:8080/"
        },
        "id": "Yz6tEiU5mEWd",
        "outputId": "6d23d1b7-8ac8-4053-ee94-208cd090993c"
      },
      "execution_count": null,
      "outputs": [
        {
          "output_type": "stream",
          "name": "stdout",
          "text": [
            "Overwriting addv.cu\n"
          ]
        }
      ]
    },
    {
      "cell_type": "code",
      "source": [
        "!nvcc -o addv addv.cu\n",
        "!./addv"
      ],
      "metadata": {
        "colab": {
          "base_uri": "https://localhost:8080/"
        },
        "id": "gkoj3DJrobrH",
        "outputId": "684d2eaa-11d9-44f4-f2fc-4bde59320746"
      },
      "execution_count": null,
      "outputs": [
        {
          "output_type": "stream",
          "name": "stdout",
          "text": [
            " 2  4  6  8 "
          ]
        }
      ]
    },
    {
      "cell_type": "code",
      "source": [
        "%%writefile a.cu\n",
        "#include<stdio.h>\n",
        "#define N 12\n",
        "#define M 2\n",
        "__global__ void add(int *a, int *b, int *c)\n",
        "{\n",
        "  int idx = threadIdx.x + blockIdx.x * blockDim.x;\n",
        "  if(idx < N)\n",
        "  {\n",
        "    c[idx] = a[idx] + b[idx];\n",
        "  }\n",
        "}\n",
        "\n",
        "int main()\n",
        "{\n",
        "  int *a, *b, *c;\n",
        "  int *d_a, *d_b, *d_c;\n",
        "  int size = N * sizeof(int);\n",
        "\n",
        "  cudaMalloc((void **)&d_a,size);\n",
        "  cudaMalloc((void **)&d_b,size);\n",
        "  cudaMalloc((void **)&d_c,size);\n",
        "\n",
        "  a = (int *)malloc(size);\n",
        "  b = (int *)malloc(size);\n",
        "  c = (int *)malloc(size);\n",
        "\n",
        "  for(int i=0;i<N;i++)\n",
        "  {\n",
        "    a[i] = i+1;\n",
        "    b[i] = i+1;\n",
        "  }\n",
        "\n",
        "\n",
        "  cudaMemcpy(d_a, a, size, cudaMemcpyHostToDevice);\n",
        "  cudaMemcpy(d_b, b, size, cudaMemcpyHostToDevice);\n",
        "\n",
        "  add<<<(N+M-1)/M, M>>>(d_a, d_b,d_c);\n",
        "\n",
        "  cudaMemcpy(c, d_c, size, cudaMemcpyDeviceToHost);\n",
        "\n",
        "  for(int i=0;i<N;i++)\n",
        "  {\n",
        "    printf(\" %d \",c[i]);\n",
        "  }\n",
        "\n",
        "  cudaFree(a);\n",
        "  cudaFree(b);\n",
        "  cudaFree(c);\n",
        "  cudaFree(d_a);\n",
        "  cudaFree(d_b);\n",
        "  cudaFree(d_c);\n",
        "\n",
        "\n",
        "\n",
        "}"
      ],
      "metadata": {
        "colab": {
          "base_uri": "https://localhost:8080/"
        },
        "id": "aAHcKKnstIcG",
        "outputId": "cfab8831-be97-4c7e-f2ec-08d82f9a614c"
      },
      "execution_count": null,
      "outputs": [
        {
          "output_type": "stream",
          "name": "stdout",
          "text": [
            "Overwriting a.cu\n"
          ]
        }
      ]
    },
    {
      "cell_type": "code",
      "source": [
        "!nvcc -o a a.cu\n",
        "\n",
        "!./a"
      ],
      "metadata": {
        "colab": {
          "base_uri": "https://localhost:8080/"
        },
        "id": "vWsRQ21RtbCE",
        "outputId": "5323a612-800a-4836-cc47-727110bfe29c"
      },
      "execution_count": null,
      "outputs": [
        {
          "output_type": "stream",
          "name": "stdout",
          "text": [
            " 2  4  6  8  10  12  14  16  18  20  22  24 "
          ]
        }
      ]
    }
  ]
}